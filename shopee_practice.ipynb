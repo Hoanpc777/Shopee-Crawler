{
 "cells": [
  {
   "cell_type": "code",
   "execution_count": 2,
   "metadata": {},
   "outputs": [],
   "source": [
    "from func.shopee_crawler import search_get_items, get_items_from_industry, get_in4_item"
   ]
  },
  {
   "cell_type": "code",
   "execution_count": 3,
   "metadata": {},
   "outputs": [
    {
     "data": {
      "text/html": [
       "<div>\n",
       "<style scoped>\n",
       "    .dataframe tbody tr th:only-of-type {\n",
       "        vertical-align: middle;\n",
       "    }\n",
       "\n",
       "    .dataframe tbody tr th {\n",
       "        vertical-align: top;\n",
       "    }\n",
       "\n",
       "    .dataframe thead th {\n",
       "        text-align: right;\n",
       "    }\n",
       "</style>\n",
       "<table border=\"1\" class=\"dataframe\">\n",
       "  <thead>\n",
       "    <tr style=\"text-align: right;\">\n",
       "      <th></th>\n",
       "      <th>shopid</th>\n",
       "      <th>itemid</th>\n",
       "      <th>brand</th>\n",
       "      <th>price</th>\n",
       "      <th>stock</th>\n",
       "      <th>discount</th>\n",
       "      <th>historical_sold</th>\n",
       "      <th>sold</th>\n",
       "      <th>description</th>\n",
       "      <th>item_rating.rating_star</th>\n",
       "      <th>images</th>\n",
       "      <th>categories</th>\n",
       "      <th>shop_vouchers</th>\n",
       "      <th>global_sold</th>\n",
       "      <th>lv1</th>\n",
       "      <th>lv2</th>\n",
       "      <th>lv3</th>\n",
       "    </tr>\n",
       "  </thead>\n",
       "  <tbody>\n",
       "    <tr>\n",
       "      <th>0</th>\n",
       "      <td>439702972</td>\n",
       "      <td>11402808589</td>\n",
       "      <td>BeGreen House</td>\n",
       "      <td>16423122522</td>\n",
       "      <td>3268</td>\n",
       "      <td>50%</td>\n",
       "      <td>634</td>\n",
       "      <td>46</td>\n",
       "      <td>THÔNG TIN SẢN PHẨM SỮA TẮM CHO NAM BEGREEN HOU...</td>\n",
       "      <td>3.055968</td>\n",
       "      <td>[01d1479a4b782e01054948aa97989a4b, 28ce82d7648...</td>\n",
       "      <td>[{'catid': 100630, 'display_name': 'Sắc Đẹp', ...</td>\n",
       "      <td>[]</td>\n",
       "      <td>634</td>\n",
       "      <td>Sắc Đẹp</td>\n",
       "      <td>Chăm sóc nam giới</td>\n",
       "      <td>Sữa tắm &amp; chăm sóc cơ thể</td>\n",
       "    </tr>\n",
       "  </tbody>\n",
       "</table>\n",
       "</div>"
      ],
      "text/plain": [
       "      shopid       itemid          brand        price  stock discount  \\\n",
       "0  439702972  11402808589  BeGreen House  16423122522   3268      50%   \n",
       "\n",
       "   historical_sold  sold                                        description  \\\n",
       "0              634    46  THÔNG TIN SẢN PHẨM SỮA TẮM CHO NAM BEGREEN HOU...   \n",
       "\n",
       "   item_rating.rating_star                                             images  \\\n",
       "0                 3.055968  [01d1479a4b782e01054948aa97989a4b, 28ce82d7648...   \n",
       "\n",
       "                                          categories shop_vouchers  \\\n",
       "0  [{'catid': 100630, 'display_name': 'Sắc Đẹp', ...            []   \n",
       "\n",
       "   global_sold      lv1                lv2                        lv3  \n",
       "0          634  Sắc Đẹp  Chăm sóc nam giới  Sữa tắm & chăm sóc cơ thể  "
      ]
     },
     "execution_count": 3,
     "metadata": {},
     "output_type": "execute_result"
    }
   ],
   "source": [
    "get_in4_item(439702972, 11402808589)"
   ]
  }
 ],
 "metadata": {
  "kernelspec": {
   "display_name": "Python 3",
   "language": "python",
   "name": "python3"
  },
  "language_info": {
   "codemirror_mode": {
    "name": "ipython",
    "version": 3
   },
   "file_extension": ".py",
   "mimetype": "text/x-python",
   "name": "python",
   "nbconvert_exporter": "python",
   "pygments_lexer": "ipython3",
   "version": "3.10.5"
  },
  "orig_nbformat": 4
 },
 "nbformat": 4,
 "nbformat_minor": 2
}
