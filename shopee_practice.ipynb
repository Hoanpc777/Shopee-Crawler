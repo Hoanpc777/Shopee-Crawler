{
 "cells": [
  {
   "cell_type": "code",
   "execution_count": 52,
   "metadata": {},
   "outputs": [],
   "source": [
    "from func.shopee_crawler import search_get_items,search_get_items_with_selected_page, get_items_from_industry, get_in4_item, get_full_in4_item, get_item_price\n",
    "import os\n",
    "import pandas as pd"
   ]
  },
  {
   "cell_type": "code",
   "execution_count": 53,
   "metadata": {},
   "outputs": [],
   "source": [
    "brand_source = os.path.abspath('data\\list_requested_brands.xlsx')\n",
    "# read sheet\n",
    "# pd.ExcelFile(brand_source).sheet_names\n",
    "brand_list= [i.replace(' ','%20').lower() for i in list(pd.read_excel(brand_source,'list_brand')['brand'])]"
   ]
  },
  {
   "cell_type": "code",
   "execution_count": 54,
   "metadata": {},
   "outputs": [],
   "source": [
    "# Lấy danh sách item từ mục tìm kiếm\n",
    "path = os.path.abspath(r'data\\brand_id.xlsx')\n",
    "data = pd.DataFrame()\n",
    "for i in brand_list:\n",
    "    page_number=0\n",
    "    while True:\n",
    "        try:\n",
    "            read_data = pd.read_excel(path)\n",
    "        except:\n",
    "            read_data = pd.DataFrame()\n",
    "        url = f'https://shopee.vn/search?category=11036279&filters=5&keyword={i}&sortBy=sales'\n",
    "        raw_data = search_get_items_with_selected_page(url=url, page_number=page_number)\n",
    "        raw_data['f_brand'] = i\n",
    "        data = pd.concat([data, raw_data], axis=0)\n",
    "        pd.concat([read_data,raw_data],axis=0).reset_index().drop('index',axis=1).to_excel(path, index=False)\n",
    "        if data[data['f_brand']==i]['name'].nunique()>100 or page_number>3:\n",
    "            break\n",
    "        else:\n",
    "            page_number +=1\n",
    "data = data.reset_index().drop('index', axis=1)"
   ]
  },
  {
   "cell_type": "code",
   "execution_count": 55,
   "metadata": {},
   "outputs": [],
   "source": [
    "#Lấy thông tin chi tiết brand và giá\n",
    "detail_data = pd.DataFrame()\n",
    "list_item = data[['shopid','itemid']]\n",
    "for i in list(range(len(list_item))):\n",
    "    shopid = int(list_item.iloc[i]['shopid'])\n",
    "    itemid = int(list_item.iloc[i]['itemid'])\n",
    "    try:\n",
    "        raw = get_in4_item(shopid,itemid)\n",
    "        detail_data = pd.concat([detail_data,raw],axis=0)\n",
    "    except:\n",
    "        pass\n",
    "detail_data = detail_data.reset_index().drop('index', axis=1)\n",
    "detail_data = detail_data.drop(['shopid','itemid'],axis=1)\n",
    "# Merge\n",
    "final = detail_data.merge(data[['shopid','itemid','f_brand']], how='left', left_on = ['shop','item'], right_on = ['shopid','itemid'])\n",
    "final['price_before_discount'] = final['price_before_discount']/1e5\n",
    "final['display_price'] = final['display_price']/1e5"
   ]
  },
  {
   "cell_type": "code",
   "execution_count": 57,
   "metadata": {},
   "outputs": [],
   "source": [
    "final.to_excel(os.path.abspath(r'data\\final.xlsx'))"
   ]
  }
 ],
 "metadata": {
  "kernelspec": {
   "display_name": "Python 3",
   "language": "python",
   "name": "python3"
  },
  "language_info": {
   "codemirror_mode": {
    "name": "ipython",
    "version": 3
   },
   "file_extension": ".py",
   "mimetype": "text/x-python",
   "name": "python",
   "nbconvert_exporter": "python",
   "pygments_lexer": "ipython3",
   "version": "3.10.5"
  },
  "orig_nbformat": 4,
  "vscode": {
   "interpreter": {
    "hash": "444290e5f6c16e686203449e41a3189d324d94e902ccb1537fcd3b892ead1f9e"
   }
  }
 },
 "nbformat": 4,
 "nbformat_minor": 2
}
